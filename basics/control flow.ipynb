{
 "cells": [
  {
   "cell_type": "code",
   "execution_count": 10,
   "metadata": {},
   "outputs": [
    {
     "name": "stdout",
     "output_type": "stream",
     "text": [
      "you see a apple seller\n",
      "purchase 2kg of apples\n"
     ]
    }
   ],
   "source": [
    "print('you see a apple seller')\n",
    "q=input('do you like apples?')\n",
    "\n",
    "if q=='yes':\n",
    "    print('purchase 2kg of apples')\n",
    "if q=='no':\n",
    "    print('you dont purchase apples')"
   ]
  },
  {
   "cell_type": "code",
   "execution_count": 6,
   "metadata": {},
   "outputs": [
    {
     "name": "stdout",
     "output_type": "stream",
     "text": [
      "x is greater than 5\n",
      "this is the info we needed\n",
      "with this power, comes great responsibility\n",
      "the end\n"
     ]
    }
   ],
   "source": [
    "x=10\n",
    "if x>5:\n",
    "    print('x is greater than 5')\n",
    "    print('this is the info we needed')\n",
    "    print(\"with this power, comes great responsibility\")\n",
    "print('the end')    "
   ]
  },
  {
   "cell_type": "code",
   "execution_count": 7,
   "metadata": {},
   "outputs": [
    {
     "name": "stdout",
     "output_type": "stream",
     "text": [
      "the end\n"
     ]
    }
   ],
   "source": [
    "x=3\n",
    "if x>5:\n",
    "    print('x is greater than 5')\n",
    "    print('this is the info we needed')\n",
    "    print(\"with this power, comes great responsibility\")\n",
    "print('the end') "
   ]
  },
  {
   "cell_type": "code",
   "execution_count": 9,
   "metadata": {},
   "outputs": [
    {
     "name": "stdout",
     "output_type": "stream",
     "text": [
      "wear long pants.\n",
      "get some exercise outside.\n"
     ]
    }
   ],
   "source": [
    "temp= float(input('what is the temperature?'))\n",
    "if temp>70:\n",
    "    print('wear shorts.')\n",
    "else:\n",
    "    print('wear long pants.')\n",
    "print('get some exercise outside.')        "
   ]
  },
  {
   "cell_type": "code",
   "execution_count": 11,
   "metadata": {},
   "outputs": [
    {
     "name": "stdout",
     "output_type": "stream",
     "text": [
      "E\n"
     ]
    }
   ],
   "source": [
    "score=int(input('your score ->'))\n",
    "if score>=90:\n",
    "    letter='A'\n",
    "elif score>=80:\n",
    "    letter='B'\n",
    "elif score>=70:\n",
    "    letter='C'\n",
    "elif score>=60:\n",
    "    letter='D'\n",
    "else:\n",
    "    letter='E'\n",
    "print(letter)                    "
   ]
  },
  {
   "cell_type": "code",
   "execution_count": 13,
   "metadata": {},
   "outputs": [
    {
     "name": "stdout",
     "output_type": "stream",
     "text": [
      "24\n"
     ]
    }
   ],
   "source": [
    "a=int(input('enter a number.'))\n",
    "if a>10 : a*=2\n",
    "print(a)"
   ]
  },
  {
   "cell_type": "code",
   "execution_count": 14,
   "metadata": {},
   "outputs": [
    {
     "name": "stdout",
     "output_type": "stream",
     "text": [
      "42\n"
     ]
    }
   ],
   "source": [
    "if 42 in range(100): print(\"42\")"
   ]
  },
  {
   "cell_type": "code",
   "execution_count": 15,
   "metadata": {},
   "outputs": [],
   "source": [
    "if 142 in range(100): print(\"142\")"
   ]
  },
  {
   "cell_type": "code",
   "execution_count": 17,
   "metadata": {},
   "outputs": [
    {
     "name": "stdout",
     "output_type": "stream",
     "text": [
      "Alice\n"
     ]
    }
   ],
   "source": [
    "x= \"Alice\" if \"Jon\" in \"My name is Jonus\" else \"Bob\" \n",
    "print(x)"
   ]
  },
  {
   "cell_type": "code",
   "execution_count": 18,
   "metadata": {},
   "outputs": [
    {
     "name": "stdout",
     "output_type": "stream",
     "text": [
      "42\n"
     ]
    }
   ],
   "source": [
    "print(\"42\") if 42 in [22,33,42] else print(\"21\")"
   ]
  },
  {
   "cell_type": "code",
   "execution_count": 19,
   "metadata": {},
   "outputs": [
    {
     "name": "stdout",
     "output_type": "stream",
     "text": [
      "Its hot\n"
     ]
    }
   ],
   "source": [
    "temp=int(input('enter the temperature'))\n",
    "print(\"Its cool\") if temp<25 else print(\"Its hot\")"
   ]
  },
  {
   "cell_type": "code",
   "execution_count": 20,
   "metadata": {},
   "outputs": [
    {
     "name": "stdout",
     "output_type": "stream",
     "text": [
      "x is greater than y\n",
      "y is smaller than x\n",
      "y is smaller than 6 also\n",
      "why y is smaller\n"
     ]
    }
   ],
   "source": [
    "x=10\n",
    "y=5\n",
    "if x>y:\n",
    "    print('x is greater than y')\n",
    "    print('y is smaller than x')\n",
    "if y<6:\n",
    "    print('y is smaller than 6 also')\n",
    "    print('why y is smaller')\n",
    "if y==3:\n",
    "    print('y is 3')\n",
    "    print('Its time to make y greater')\n",
    "    y=x+y        "
   ]
  },
  {
   "cell_type": "code",
   "execution_count": 1,
   "metadata": {},
   "outputs": [
    {
     "name": "stdout",
     "output_type": "stream",
     "text": [
      "x is greater than y\n",
      "y is smaller than x\n",
      "y is smaller than 6 also\n",
      "why y is smaller\n",
      "y is 3\n",
      "Its time to make y greater\n"
     ]
    }
   ],
   "source": [
    "x=10\n",
    "y=3\n",
    "if x>y:\n",
    "    print('x is greater than y')\n",
    "    print('y is smaller than x')\n",
    "if y<6:\n",
    "    print('y is smaller than 6 also')\n",
    "    print('why y is smaller')\n",
    "if y==3:\n",
    "    print('y is 3')\n",
    "    print('Its time to make y greater')\n",
    "    y=x+y        "
   ]
  },
  {
   "cell_type": "code",
   "execution_count": null,
   "metadata": {},
   "outputs": [],
   "source": []
  }
 ],
 "metadata": {
  "kernelspec": {
   "display_name": "Python 3.9.12 ('base')",
   "language": "python",
   "name": "python3"
  },
  "language_info": {
   "codemirror_mode": {
    "name": "ipython",
    "version": 3
   },
   "file_extension": ".py",
   "mimetype": "text/x-python",
   "name": "python",
   "nbconvert_exporter": "python",
   "pygments_lexer": "ipython3",
   "version": "3.9.12"
  },
  "orig_nbformat": 4,
  "vscode": {
   "interpreter": {
    "hash": "e80d1d46b75296750b81c0002546df5514b0c5fb775e2d3e5e0663e4abd4c690"
   }
  }
 },
 "nbformat": 4,
 "nbformat_minor": 2
}
