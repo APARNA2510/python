{
 "cells": [
  {
   "cell_type": "code",
   "execution_count": 17,
   "metadata": {},
   "outputs": [],
   "source": [
    "import numpy as np\n",
    "import pandas as pd"
   ]
  },
  {
   "cell_type": "code",
   "execution_count": 18,
   "metadata": {},
   "outputs": [],
   "source": [
    "x = [1,2,3,5,7,8,4,9]\n",
    "nx = np.array(x)"
   ]
  },
  {
   "cell_type": "code",
   "execution_count": 19,
   "metadata": {},
   "outputs": [
    {
     "name": "stdout",
     "output_type": "stream",
     "text": [
      "[1 2 3 5 7 8 4 9]\n"
     ]
    }
   ],
   "source": [
    "print(nx)"
   ]
  },
  {
   "cell_type": "code",
   "execution_count": 20,
   "metadata": {},
   "outputs": [
    {
     "name": "stdout",
     "output_type": "stream",
     "text": [
      "(8,)\n"
     ]
    }
   ],
   "source": [
    "print(nx.shape)"
   ]
  },
  {
   "cell_type": "code",
   "execution_count": 21,
   "metadata": {},
   "outputs": [],
   "source": [
    "ny = np.array([[1,2,3],[5,6,7]])"
   ]
  },
  {
   "cell_type": "code",
   "execution_count": 22,
   "metadata": {},
   "outputs": [
    {
     "name": "stdout",
     "output_type": "stream",
     "text": [
      "(2, 3)\n"
     ]
    }
   ],
   "source": [
    "print(ny.shape)"
   ]
  },
  {
   "cell_type": "code",
   "execution_count": 23,
   "metadata": {},
   "outputs": [
    {
     "data": {
      "text/plain": [
       "array([[1, 2, 3],\n",
       "       [5, 6, 7]])"
      ]
     },
     "execution_count": 23,
     "metadata": {},
     "output_type": "execute_result"
    }
   ],
   "source": [
    "ny"
   ]
  },
  {
   "cell_type": "code",
   "execution_count": 24,
   "metadata": {},
   "outputs": [
    {
     "data": {
      "text/plain": [
       "array([ 1. ,  1.2,  1.4,  1.6,  1.8,  2. ,  2.2,  2.4,  2.6,  2.8,  3. ,\n",
       "        3.2,  3.4,  3.6,  3.8,  4. ,  4.2,  4.4,  4.6,  4.8,  5. ,  5.2,\n",
       "        5.4,  5.6,  5.8,  6. ,  6.2,  6.4,  6.6,  6.8,  7. ,  7.2,  7.4,\n",
       "        7.6,  7.8,  8. ,  8.2,  8.4,  8.6,  8.8,  9. ,  9.2,  9.4,  9.6,\n",
       "        9.8, 10. , 10.2, 10.4, 10.6, 10.8, 11. , 11.2, 11.4, 11.6, 11.8,\n",
       "       12. , 12.2, 12.4, 12.6, 12.8, 13. , 13.2, 13.4, 13.6, 13.8, 14. ,\n",
       "       14.2, 14.4, 14.6, 14.8, 15. , 15.2, 15.4, 15.6, 15.8, 16. , 16.2,\n",
       "       16.4, 16.6, 16.8, 17. , 17.2, 17.4, 17.6, 17.8, 18. , 18.2, 18.4,\n",
       "       18.6, 18.8, 19. , 19.2, 19.4, 19.6, 19.8, 20. , 20.2, 20.4, 20.6,\n",
       "       20.8, 21. , 21.2, 21.4, 21.6, 21.8, 22. , 22.2, 22.4, 22.6, 22.8,\n",
       "       23. , 23.2, 23.4, 23.6, 23.8, 24. , 24.2, 24.4, 24.6, 24.8, 25. ,\n",
       "       25.2, 25.4, 25.6, 25.8, 26. , 26.2, 26.4, 26.6, 26.8, 27. , 27.2,\n",
       "       27.4, 27.6, 27.8, 28. , 28.2, 28.4, 28.6, 28.8, 29. , 29.2, 29.4,\n",
       "       29.6, 29.8, 30. , 30.2, 30.4, 30.6, 30.8, 31. , 31.2, 31.4, 31.6,\n",
       "       31.8, 32. , 32.2, 32.4, 32.6, 32.8, 33. , 33.2, 33.4, 33.6, 33.8,\n",
       "       34. , 34.2, 34.4, 34.6, 34.8, 35. , 35.2, 35.4, 35.6, 35.8, 36. ,\n",
       "       36.2, 36.4, 36.6, 36.8, 37. , 37.2, 37.4, 37.6, 37.8, 38. , 38.2,\n",
       "       38.4, 38.6, 38.8, 39. , 39.2, 39.4, 39.6, 39.8, 40. , 40.2, 40.4,\n",
       "       40.6, 40.8, 41. , 41.2, 41.4, 41.6, 41.8, 42. , 42.2, 42.4, 42.6,\n",
       "       42.8, 43. , 43.2, 43.4, 43.6, 43.8, 44. , 44.2, 44.4, 44.6, 44.8,\n",
       "       45. , 45.2, 45.4, 45.6, 45.8, 46. , 46.2, 46.4, 46.6, 46.8, 47. ,\n",
       "       47.2, 47.4, 47.6, 47.8, 48. , 48.2, 48.4, 48.6, 48.8, 49. , 49.2,\n",
       "       49.4, 49.6, 49.8, 50. , 50.2, 50.4, 50.6, 50.8, 51. , 51.2, 51.4,\n",
       "       51.6, 51.8, 52. , 52.2, 52.4, 52.6, 52.8, 53. , 53.2, 53.4, 53.6,\n",
       "       53.8, 54. , 54.2, 54.4, 54.6, 54.8, 55. , 55.2, 55.4, 55.6, 55.8,\n",
       "       56. , 56.2, 56.4, 56.6, 56.8, 57. , 57.2, 57.4, 57.6, 57.8, 58. ,\n",
       "       58.2, 58.4, 58.6, 58.8, 59. , 59.2, 59.4, 59.6, 59.8, 60. , 60.2,\n",
       "       60.4, 60.6, 60.8, 61. , 61.2, 61.4, 61.6, 61.8, 62. , 62.2, 62.4,\n",
       "       62.6, 62.8, 63. , 63.2, 63.4, 63.6, 63.8, 64. , 64.2, 64.4, 64.6,\n",
       "       64.8, 65. , 65.2, 65.4, 65.6, 65.8, 66. , 66.2, 66.4, 66.6, 66.8,\n",
       "       67. , 67.2, 67.4, 67.6, 67.8, 68. , 68.2, 68.4, 68.6, 68.8, 69. ,\n",
       "       69.2, 69.4, 69.6, 69.8, 70. , 70.2, 70.4, 70.6, 70.8, 71. , 71.2,\n",
       "       71.4, 71.6, 71.8, 72. , 72.2, 72.4, 72.6, 72.8, 73. , 73.2, 73.4,\n",
       "       73.6, 73.8, 74. , 74.2, 74.4, 74.6, 74.8, 75. , 75.2, 75.4, 75.6,\n",
       "       75.8, 76. , 76.2, 76.4, 76.6, 76.8, 77. , 77.2, 77.4, 77.6, 77.8,\n",
       "       78. , 78.2, 78.4, 78.6, 78.8, 79. , 79.2, 79.4, 79.6, 79.8, 80. ,\n",
       "       80.2, 80.4, 80.6, 80.8, 81. , 81.2, 81.4, 81.6, 81.8, 82. , 82.2,\n",
       "       82.4, 82.6, 82.8, 83. , 83.2, 83.4, 83.6, 83.8, 84. , 84.2, 84.4,\n",
       "       84.6, 84.8, 85. , 85.2, 85.4, 85.6, 85.8, 86. , 86.2, 86.4, 86.6,\n",
       "       86.8, 87. , 87.2, 87.4, 87.6, 87.8, 88. , 88.2, 88.4, 88.6, 88.8,\n",
       "       89. , 89.2, 89.4, 89.6, 89.8, 90. , 90.2, 90.4, 90.6, 90.8, 91. ,\n",
       "       91.2, 91.4, 91.6, 91.8, 92. , 92.2, 92.4, 92.6, 92.8, 93. , 93.2,\n",
       "       93.4, 93.6, 93.8, 94. , 94.2, 94.4, 94.6, 94.8, 95. , 95.2, 95.4,\n",
       "       95.6, 95.8, 96. , 96.2, 96.4, 96.6, 96.8, 97. , 97.2, 97.4, 97.6,\n",
       "       97.8, 98. , 98.2, 98.4, 98.6, 98.8, 99. , 99.2, 99.4, 99.6, 99.8])"
      ]
     },
     "execution_count": 24,
     "metadata": {},
     "output_type": "execute_result"
    }
   ],
   "source": [
    "one = np.arange(1,100,.2)\n",
    "one"
   ]
  },
  {
   "cell_type": "code",
   "execution_count": 25,
   "metadata": {},
   "outputs": [
    {
     "name": "stdout",
     "output_type": "stream",
     "text": [
      "495\n"
     ]
    }
   ],
   "source": [
    "print(one.size)"
   ]
  },
  {
   "cell_type": "code",
   "execution_count": 26,
   "metadata": {},
   "outputs": [
    {
     "data": {
      "text/plain": [
       "array([  0.        ,   0.50251256,   1.00502513,   1.50753769,\n",
       "         2.01005025,   2.51256281,   3.01507538,   3.51758794,\n",
       "         4.0201005 ,   4.52261307,   5.02512563,   5.52763819,\n",
       "         6.03015075,   6.53266332,   7.03517588,   7.53768844,\n",
       "         8.04020101,   8.54271357,   9.04522613,   9.54773869,\n",
       "        10.05025126,  10.55276382,  11.05527638,  11.55778894,\n",
       "        12.06030151,  12.56281407,  13.06532663,  13.5678392 ,\n",
       "        14.07035176,  14.57286432,  15.07537688,  15.57788945,\n",
       "        16.08040201,  16.58291457,  17.08542714,  17.5879397 ,\n",
       "        18.09045226,  18.59296482,  19.09547739,  19.59798995,\n",
       "        20.10050251,  20.60301508,  21.10552764,  21.6080402 ,\n",
       "        22.11055276,  22.61306533,  23.11557789,  23.61809045,\n",
       "        24.12060302,  24.62311558,  25.12562814,  25.6281407 ,\n",
       "        26.13065327,  26.63316583,  27.13567839,  27.63819095,\n",
       "        28.14070352,  28.64321608,  29.14572864,  29.64824121,\n",
       "        30.15075377,  30.65326633,  31.15577889,  31.65829146,\n",
       "        32.16080402,  32.66331658,  33.16582915,  33.66834171,\n",
       "        34.17085427,  34.67336683,  35.1758794 ,  35.67839196,\n",
       "        36.18090452,  36.68341709,  37.18592965,  37.68844221,\n",
       "        38.19095477,  38.69346734,  39.1959799 ,  39.69849246,\n",
       "        40.20100503,  40.70351759,  41.20603015,  41.70854271,\n",
       "        42.21105528,  42.71356784,  43.2160804 ,  43.71859296,\n",
       "        44.22110553,  44.72361809,  45.22613065,  45.72864322,\n",
       "        46.23115578,  46.73366834,  47.2361809 ,  47.73869347,\n",
       "        48.24120603,  48.74371859,  49.24623116,  49.74874372,\n",
       "        50.25125628,  50.75376884,  51.25628141,  51.75879397,\n",
       "        52.26130653,  52.7638191 ,  53.26633166,  53.76884422,\n",
       "        54.27135678,  54.77386935,  55.27638191,  55.77889447,\n",
       "        56.28140704,  56.7839196 ,  57.28643216,  57.78894472,\n",
       "        58.29145729,  58.79396985,  59.29648241,  59.79899497,\n",
       "        60.30150754,  60.8040201 ,  61.30653266,  61.80904523,\n",
       "        62.31155779,  62.81407035,  63.31658291,  63.81909548,\n",
       "        64.32160804,  64.8241206 ,  65.32663317,  65.82914573,\n",
       "        66.33165829,  66.83417085,  67.33668342,  67.83919598,\n",
       "        68.34170854,  68.84422111,  69.34673367,  69.84924623,\n",
       "        70.35175879,  70.85427136,  71.35678392,  71.85929648,\n",
       "        72.36180905,  72.86432161,  73.36683417,  73.86934673,\n",
       "        74.3718593 ,  74.87437186,  75.37688442,  75.87939698,\n",
       "        76.38190955,  76.88442211,  77.38693467,  77.88944724,\n",
       "        78.3919598 ,  78.89447236,  79.39698492,  79.89949749,\n",
       "        80.40201005,  80.90452261,  81.40703518,  81.90954774,\n",
       "        82.4120603 ,  82.91457286,  83.41708543,  83.91959799,\n",
       "        84.42211055,  84.92462312,  85.42713568,  85.92964824,\n",
       "        86.4321608 ,  86.93467337,  87.43718593,  87.93969849,\n",
       "        88.44221106,  88.94472362,  89.44723618,  89.94974874,\n",
       "        90.45226131,  90.95477387,  91.45728643,  91.95979899,\n",
       "        92.46231156,  92.96482412,  93.46733668,  93.96984925,\n",
       "        94.47236181,  94.97487437,  95.47738693,  95.9798995 ,\n",
       "        96.48241206,  96.98492462,  97.48743719,  97.98994975,\n",
       "        98.49246231,  98.99497487,  99.49748744, 100.        ])"
      ]
     },
     "execution_count": 26,
     "metadata": {},
     "output_type": "execute_result"
    }
   ],
   "source": [
    "two = np.linspace(0,100,200)\n",
    "two"
   ]
  },
  {
   "cell_type": "code",
   "execution_count": 27,
   "metadata": {},
   "outputs": [
    {
     "name": "stdout",
     "output_type": "stream",
     "text": [
      "200\n"
     ]
    }
   ],
   "source": [
    "print(two.size)"
   ]
  },
  {
   "cell_type": "code",
   "execution_count": 28,
   "metadata": {},
   "outputs": [],
   "source": [
    "three = np.random.rand(100)"
   ]
  },
  {
   "cell_type": "code",
   "execution_count": 29,
   "metadata": {},
   "outputs": [
    {
     "data": {
      "text/plain": [
       "array([0.33041086, 0.1831397 , 0.65699745, 0.53280537, 0.18815893,\n",
       "       0.40080019, 0.20530709, 0.79482816, 0.30273299, 0.41961322,\n",
       "       0.52943508, 0.50145504, 0.09584492, 0.15548795, 0.40037882,\n",
       "       0.20835624, 0.10515421, 0.18929577, 0.5094681 , 0.94320399,\n",
       "       0.26562812, 0.34547335, 0.15162593, 0.90895278, 0.23168628,\n",
       "       0.57422908, 0.2370368 , 0.79579942, 0.45675934, 0.10136417,\n",
       "       0.01241065, 0.8861784 , 0.56199112, 0.4369273 , 0.1143463 ,\n",
       "       0.17576068, 0.57190138, 0.3583102 , 0.09398744, 0.41723877,\n",
       "       0.59339297, 0.98541694, 0.96763946, 0.68960841, 0.34641929,\n",
       "       0.87563927, 0.74611023, 0.84030263, 0.24874964, 0.05824197,\n",
       "       0.98511021, 0.40505402, 0.74613012, 0.87804942, 0.91502578,\n",
       "       0.7479648 , 0.97285704, 0.52190589, 0.88197994, 0.63484248,\n",
       "       0.70752692, 0.32269703, 0.14995636, 0.00785136, 0.59381817,\n",
       "       0.01276741, 0.46511245, 0.22607096, 0.63754067, 0.24057181,\n",
       "       0.68124317, 0.30659279, 0.39028028, 0.89634599, 0.25883269,\n",
       "       0.24410388, 0.23365683, 0.95023278, 0.57109878, 0.68195647,\n",
       "       0.05690982, 0.61920297, 0.64167959, 0.93805754, 0.71159463,\n",
       "       0.0374172 , 0.40888897, 0.14026329, 0.12426869, 0.20187621,\n",
       "       0.24195527, 0.69681559, 0.95262975, 0.61640444, 0.27408045,\n",
       "       0.18425555, 0.04090875, 0.9816449 , 0.87820222, 0.10783828])"
      ]
     },
     "execution_count": 29,
     "metadata": {},
     "output_type": "execute_result"
    }
   ],
   "source": [
    "three"
   ]
  },
  {
   "cell_type": "code",
   "execution_count": 30,
   "metadata": {},
   "outputs": [
    {
     "data": {
      "text/plain": [
       "array([4, 7, 6, 6, 7, 5, 3, 8, 5, 9, 7, 4, 3, 4, 5, 8, 3, 2, 1, 6, 2, 3,\n",
       "       5, 8, 4, 8, 8, 4, 2, 5, 8, 2, 8, 3, 4, 1, 3, 8, 7, 3, 7, 2, 4, 2,\n",
       "       8, 6, 9, 2, 5, 7, 1, 3, 7, 3, 5, 1, 1, 4, 3, 4, 5, 1, 4, 6, 9, 5,\n",
       "       2, 2, 8, 3, 5, 9, 2, 2, 4, 1, 8, 8, 1, 6, 5, 7, 2, 2, 2, 8, 1, 2,\n",
       "       5, 9, 9, 4, 6, 7, 1, 2, 6, 8, 6, 6])"
      ]
     },
     "execution_count": 30,
     "metadata": {},
     "output_type": "execute_result"
    }
   ],
   "source": [
    "four = np.random.randint(1,10,100)\n",
    "four"
   ]
  },
  {
   "cell_type": "code",
   "execution_count": 31,
   "metadata": {},
   "outputs": [
    {
     "data": {
      "text/plain": [
       "array([[4, 7, 6, 6, 7, 5, 3, 8, 5, 9],\n",
       "       [7, 4, 3, 4, 5, 8, 3, 2, 1, 6],\n",
       "       [2, 3, 5, 8, 4, 8, 8, 4, 2, 5],\n",
       "       [8, 2, 8, 3, 4, 1, 3, 8, 7, 3],\n",
       "       [7, 2, 4, 2, 8, 6, 9, 2, 5, 7],\n",
       "       [1, 3, 7, 3, 5, 1, 1, 4, 3, 4],\n",
       "       [5, 1, 4, 6, 9, 5, 2, 2, 8, 3],\n",
       "       [5, 9, 2, 2, 4, 1, 8, 8, 1, 6],\n",
       "       [5, 7, 2, 2, 2, 8, 1, 2, 5, 9],\n",
       "       [9, 4, 6, 7, 1, 2, 6, 8, 6, 6]])"
      ]
     },
     "execution_count": 31,
     "metadata": {},
     "output_type": "execute_result"
    }
   ],
   "source": [
    "four.reshape((10,10))"
   ]
  },
  {
   "cell_type": "code",
   "execution_count": 32,
   "metadata": {},
   "outputs": [
    {
     "data": {
      "text/plain": [
       "array([[[4, 7],\n",
       "        [6, 6],\n",
       "        [7, 5],\n",
       "        [3, 8],\n",
       "        [5, 9]],\n",
       "\n",
       "       [[7, 4],\n",
       "        [3, 4],\n",
       "        [5, 8],\n",
       "        [3, 2],\n",
       "        [1, 6]],\n",
       "\n",
       "       [[2, 3],\n",
       "        [5, 8],\n",
       "        [4, 8],\n",
       "        [8, 4],\n",
       "        [2, 5]],\n",
       "\n",
       "       [[8, 2],\n",
       "        [8, 3],\n",
       "        [4, 1],\n",
       "        [3, 8],\n",
       "        [7, 3]],\n",
       "\n",
       "       [[7, 2],\n",
       "        [4, 2],\n",
       "        [8, 6],\n",
       "        [9, 2],\n",
       "        [5, 7]],\n",
       "\n",
       "       [[1, 3],\n",
       "        [7, 3],\n",
       "        [5, 1],\n",
       "        [1, 4],\n",
       "        [3, 4]],\n",
       "\n",
       "       [[5, 1],\n",
       "        [4, 6],\n",
       "        [9, 5],\n",
       "        [2, 2],\n",
       "        [8, 3]],\n",
       "\n",
       "       [[5, 9],\n",
       "        [2, 2],\n",
       "        [4, 1],\n",
       "        [8, 8],\n",
       "        [1, 6]],\n",
       "\n",
       "       [[5, 7],\n",
       "        [2, 2],\n",
       "        [2, 8],\n",
       "        [1, 2],\n",
       "        [5, 9]],\n",
       "\n",
       "       [[9, 4],\n",
       "        [6, 7],\n",
       "        [1, 2],\n",
       "        [6, 8],\n",
       "        [6, 6]]])"
      ]
     },
     "execution_count": 32,
     "metadata": {},
     "output_type": "execute_result"
    }
   ],
   "source": [
    "four.reshape((10,5,2))"
   ]
  },
  {
   "cell_type": "code",
   "execution_count": 33,
   "metadata": {},
   "outputs": [],
   "source": [
    "one = np.random.randint(1,10,(5,5))\n",
    "two = np.random.randint(1,10,(5,5))"
   ]
  },
  {
   "cell_type": "code",
   "execution_count": 34,
   "metadata": {},
   "outputs": [
    {
     "data": {
      "text/plain": [
       "array([[ 5,  3, 13, 16, 12],\n",
       "       [ 8, 11, 10, 11, 15],\n",
       "       [13, 11, 11, 14, 10],\n",
       "       [ 4, 10, 14,  6,  9],\n",
       "       [ 4, 12, 14,  8,  9]])"
      ]
     },
     "execution_count": 34,
     "metadata": {},
     "output_type": "execute_result"
    }
   ],
   "source": [
    "one + two"
   ]
  },
  {
   "cell_type": "code",
   "execution_count": 35,
   "metadata": {},
   "outputs": [
    {
     "data": {
      "text/plain": [
       "array([[ 1,  1,  3,  0, -2],\n",
       "       [ 4,  7,  0,  7,  1],\n",
       "       [ 5, -3, -3, -4,  8],\n",
       "       [ 0,  4,  2,  4, -1],\n",
       "       [ 2, -6,  2, -4,  7]])"
      ]
     },
     "execution_count": 35,
     "metadata": {},
     "output_type": "execute_result"
    }
   ],
   "source": [
    "one - two"
   ]
  },
  {
   "cell_type": "code",
   "execution_count": 36,
   "metadata": {},
   "outputs": [
    {
     "data": {
      "text/plain": [
       "array([[  81,   16, 4096, 4096,  625],\n",
       "       [1296, 6561,  625, 6561, 4096],\n",
       "       [6561,  256,  256,  625, 6561],\n",
       "       [  16, 2401, 4096,  625,  256],\n",
       "       [  81,   81, 4096,   16, 4096]], dtype=int32)"
      ]
     },
     "execution_count": 36,
     "metadata": {},
     "output_type": "execute_result"
    }
   ],
   "source": [
    "one ** 4"
   ]
  },
  {
   "cell_type": "code",
   "execution_count": 37,
   "metadata": {},
   "outputs": [
    {
     "data": {
      "text/plain": [
       "array([[13, 12, 18, 18, 15],\n",
       "       [16, 19, 15, 19, 18],\n",
       "       [19, 14, 14, 15, 19],\n",
       "       [12, 17, 18, 15, 14],\n",
       "       [13, 13, 18, 12, 18]])"
      ]
     },
     "execution_count": 37,
     "metadata": {},
     "output_type": "execute_result"
    }
   ],
   "source": [
    "one + 10"
   ]
  },
  {
   "cell_type": "code",
   "execution_count": 38,
   "metadata": {},
   "outputs": [
    {
     "data": {
      "text/plain": [
       "array([[ 63, 132, 159, 138,  88],\n",
       "       [ 76, 158, 212, 168, 163],\n",
       "       [ 61, 141, 177, 175, 129],\n",
       "       [ 64, 123, 155, 131, 100],\n",
       "       [ 56, 143, 146, 152,  68]])"
      ]
     },
     "execution_count": 38,
     "metadata": {},
     "output_type": "execute_result"
    }
   ],
   "source": [
    "one.dot(two)"
   ]
  },
  {
   "cell_type": "code",
   "execution_count": 39,
   "metadata": {},
   "outputs": [
    {
     "data": {
      "text/plain": [
       "array([[ 6,  2, 40, 64, 35],\n",
       "       [12, 18, 25, 18, 56],\n",
       "       [36, 28, 28, 45,  9],\n",
       "       [ 4, 21, 48,  5, 20],\n",
       "       [ 3, 27, 48, 12,  8]])"
      ]
     },
     "execution_count": 39,
     "metadata": {},
     "output_type": "execute_result"
    }
   ],
   "source": [
    "one * two"
   ]
  },
  {
   "cell_type": "code",
   "execution_count": 40,
   "metadata": {},
   "outputs": [
    {
     "data": {
      "text/plain": [
       "array([[1.5       , 2.        , 1.6       , 1.        , 0.71428571],\n",
       "       [3.        , 4.5       , 1.        , 4.5       , 1.14285714],\n",
       "       [2.25      , 0.57142857, 0.57142857, 0.55555556, 9.        ],\n",
       "       [1.        , 2.33333333, 1.33333333, 5.        , 0.8       ],\n",
       "       [3.        , 0.33333333, 1.33333333, 0.33333333, 8.        ]])"
      ]
     },
     "execution_count": 40,
     "metadata": {},
     "output_type": "execute_result"
    }
   ],
   "source": [
    "one / two"
   ]
  },
  {
   "cell_type": "code",
   "execution_count": 41,
   "metadata": {},
   "outputs": [],
   "source": [
    "n6 = np.random.randint(1,10,10)"
   ]
  },
  {
   "cell_type": "code",
   "execution_count": 42,
   "metadata": {},
   "outputs": [
    {
     "data": {
      "text/plain": [
       "array([2, 8, 9, 4, 8, 3, 5, 9, 8, 5])"
      ]
     },
     "execution_count": 42,
     "metadata": {},
     "output_type": "execute_result"
    }
   ],
   "source": [
    "n6"
   ]
  },
  {
   "cell_type": "code",
   "execution_count": 43,
   "metadata": {},
   "outputs": [
    {
     "data": {
      "text/plain": [
       "2"
      ]
     },
     "execution_count": 43,
     "metadata": {},
     "output_type": "execute_result"
    }
   ],
   "source": [
    "n6[0]"
   ]
  },
  {
   "cell_type": "code",
   "execution_count": 44,
   "metadata": {},
   "outputs": [
    {
     "data": {
      "text/plain": [
       "5"
      ]
     },
     "execution_count": 44,
     "metadata": {},
     "output_type": "execute_result"
    }
   ],
   "source": [
    "n6[-1]"
   ]
  },
  {
   "cell_type": "code",
   "execution_count": 45,
   "metadata": {},
   "outputs": [
    {
     "data": {
      "text/plain": [
       "array([2, 8, 9, 4, 8])"
      ]
     },
     "execution_count": 45,
     "metadata": {},
     "output_type": "execute_result"
    }
   ],
   "source": [
    "n6[:5]"
   ]
  },
  {
   "cell_type": "code",
   "execution_count": 46,
   "metadata": {},
   "outputs": [
    {
     "data": {
      "text/plain": [
       "array([3, 5, 9, 8, 5])"
      ]
     },
     "execution_count": 46,
     "metadata": {},
     "output_type": "execute_result"
    }
   ],
   "source": [
    "n6[5:]"
   ]
  },
  {
   "cell_type": "code",
   "execution_count": 47,
   "metadata": {},
   "outputs": [],
   "source": [
    "n7 = np.array([[1,2,3,4],[5,6,7,8],[9,7,8,6]])"
   ]
  },
  {
   "cell_type": "code",
   "execution_count": 48,
   "metadata": {},
   "outputs": [
    {
     "data": {
      "text/plain": [
       "array([[1, 2, 3, 4],\n",
       "       [5, 6, 7, 8],\n",
       "       [9, 7, 8, 6]])"
      ]
     },
     "execution_count": 48,
     "metadata": {},
     "output_type": "execute_result"
    }
   ],
   "source": [
    "n7"
   ]
  },
  {
   "cell_type": "code",
   "execution_count": 49,
   "metadata": {},
   "outputs": [
    {
     "name": "stdout",
     "output_type": "stream",
     "text": [
      "[1 2 3 4]\n"
     ]
    }
   ],
   "source": [
    "print(n7[0])"
   ]
  },
  {
   "cell_type": "code",
   "execution_count": 50,
   "metadata": {},
   "outputs": [
    {
     "name": "stdout",
     "output_type": "stream",
     "text": [
      "[1 5 9]\n"
     ]
    }
   ],
   "source": [
    "print(n7[: ,0])"
   ]
  },
  {
   "cell_type": "code",
   "execution_count": 51,
   "metadata": {},
   "outputs": [
    {
     "name": "stdout",
     "output_type": "stream",
     "text": [
      "[9 7 8 6]\n"
     ]
    }
   ],
   "source": [
    "print(n7[-1])"
   ]
  },
  {
   "cell_type": "code",
   "execution_count": 52,
   "metadata": {},
   "outputs": [
    {
     "name": "stdout",
     "output_type": "stream",
     "text": [
      "[[3 4]\n",
      " [7 8]]\n"
     ]
    }
   ],
   "source": [
    "print(n7[:2, 2:])"
   ]
  },
  {
   "cell_type": "code",
   "execution_count": 53,
   "metadata": {},
   "outputs": [
    {
     "name": "stdout",
     "output_type": "stream",
     "text": [
      "[[5 6 7 8]\n",
      " [9 7 8 6]]\n"
     ]
    }
   ],
   "source": [
    "print(n7[1:, 0:])"
   ]
  },
  {
   "cell_type": "code",
   "execution_count": 54,
   "metadata": {},
   "outputs": [
    {
     "data": {
      "text/plain": [
       "array([4, 7, 6, 6, 7, 5, 3, 8, 5, 9, 7, 4, 3, 4, 5, 8, 3, 2, 1, 6, 2, 3,\n",
       "       5, 8, 4, 8, 8, 4, 2, 5, 8, 2, 8, 3, 4, 1, 3, 8, 7, 3, 7, 2, 4, 2,\n",
       "       8, 6, 9, 2, 5, 7, 1, 3, 7, 3, 5, 1, 1, 4, 3, 4, 5, 1, 4, 6, 9, 5,\n",
       "       2, 2, 8, 3, 5, 9, 2, 2, 4, 1, 8, 8, 1, 6, 5, 7, 2, 2, 2, 8, 1, 2,\n",
       "       5, 9, 9, 4, 6, 7, 1, 2, 6, 8, 6, 6])"
      ]
     },
     "execution_count": 54,
     "metadata": {},
     "output_type": "execute_result"
    }
   ],
   "source": [
    "four.flatten()"
   ]
  },
  {
   "cell_type": "code",
   "execution_count": 55,
   "metadata": {},
   "outputs": [
    {
     "data": {
      "text/plain": [
       "array([4, 7, 6, 6, 7, 5, 3, 8, 5, 9, 7, 4, 3, 4, 5, 8, 3, 2, 1, 6, 2, 3,\n",
       "       5, 8, 4, 8, 8, 4, 2, 5, 8, 2, 8, 3, 4, 1, 3, 8, 7, 3, 7, 2, 4, 2,\n",
       "       8, 6, 9, 2, 5, 7, 1, 3, 7, 3, 5, 1, 1, 4, 3, 4, 5, 1, 4, 6, 9, 5,\n",
       "       2, 2, 8, 3, 5, 9, 2, 2, 4, 1, 8, 8, 1, 6, 5, 7, 2, 2, 2, 8, 1, 2,\n",
       "       5, 9, 9, 4, 6, 7, 1, 2, 6, 8, 6, 6])"
      ]
     },
     "execution_count": 55,
     "metadata": {},
     "output_type": "execute_result"
    }
   ],
   "source": [
    "# flatten a n dimension matrix  to 1 diemefornsion matrix\n",
    "four.ravel()"
   ]
  },
  {
   "cell_type": "code",
   "execution_count": 56,
   "metadata": {},
   "outputs": [
    {
     "data": {
      "text/plain": [
       "array([4, 7, 6, 6, 7, 5, 3, 8, 5, 9, 7, 4, 3, 4, 5, 8, 3, 2, 1, 6, 2, 3,\n",
       "       5, 8, 4, 8, 8, 4, 2, 5, 8, 2, 8, 3, 4, 1, 3, 8, 7, 3, 7, 2, 4, 2,\n",
       "       8, 6, 9, 2, 5, 7, 1, 3, 7, 3, 5, 1, 1, 4, 3, 4, 5, 1, 4, 6, 9, 5,\n",
       "       2, 2, 8, 3, 5, 9, 2, 2, 4, 1, 8, 8, 1, 6, 5, 7, 2, 2, 2, 8, 1, 2,\n",
       "       5, 9, 9, 4, 6, 7, 1, 2, 6, 8, 6, 6])"
      ]
     },
     "execution_count": 56,
     "metadata": {},
     "output_type": "execute_result"
    }
   ],
   "source": [
    "four.T"
   ]
  },
  {
   "cell_type": "code",
   "execution_count": 57,
   "metadata": {},
   "outputs": [
    {
     "data": {
      "text/plain": [
       "9"
      ]
     },
     "execution_count": 57,
     "metadata": {},
     "output_type": "execute_result"
    }
   ],
   "source": [
    "four.max()"
   ]
  },
  {
   "cell_type": "code",
   "execution_count": 58,
   "metadata": {},
   "outputs": [
    {
     "data": {
      "text/plain": [
       "1"
      ]
     },
     "execution_count": 58,
     "metadata": {},
     "output_type": "execute_result"
    }
   ],
   "source": [
    "four.min()"
   ]
  },
  {
   "cell_type": "code",
   "execution_count": 59,
   "metadata": {},
   "outputs": [
    {
     "data": {
      "text/plain": [
       "4.72"
      ]
     },
     "execution_count": 59,
     "metadata": {},
     "output_type": "execute_result"
    }
   ],
   "source": [
    "four.mean()"
   ]
  },
  {
   "cell_type": "code",
   "execution_count": 60,
   "metadata": {},
   "outputs": [
    {
     "data": {
      "text/plain": [
       "472"
      ]
     },
     "execution_count": 60,
     "metadata": {},
     "output_type": "execute_result"
    }
   ],
   "source": [
    "four.sum()"
   ]
  },
  {
   "cell_type": "code",
   "execution_count": 61,
   "metadata": {},
   "outputs": [
    {
     "data": {
      "text/plain": [
       "472"
      ]
     },
     "execution_count": 61,
     "metadata": {},
     "output_type": "execute_result"
    }
   ],
   "source": [
    "four.sum(axis=0) # sum all values in each coloumn"
   ]
  },
  {
   "cell_type": "code",
   "execution_count": 62,
   "metadata": {},
   "outputs": [
    {
     "data": {
      "text/plain": [
       "2.4903011866037414"
      ]
     },
     "execution_count": 62,
     "metadata": {},
     "output_type": "execute_result"
    }
   ],
   "source": [
    "four.std()"
   ]
  },
  {
   "cell_type": "code",
   "execution_count": 63,
   "metadata": {},
   "outputs": [
    {
     "data": {
      "text/plain": [
       "9"
      ]
     },
     "execution_count": 63,
     "metadata": {},
     "output_type": "execute_result"
    }
   ],
   "source": [
    "n7.max() # the value"
   ]
  },
  {
   "cell_type": "code",
   "execution_count": null,
   "metadata": {},
   "outputs": [],
   "source": [
    "print(n7, n7.max(),\"found\")"
   ]
  },
  {
   "cell_type": "code",
   "execution_count": 64,
   "metadata": {},
   "outputs": [
    {
     "data": {
      "text/plain": [
       "8"
      ]
     },
     "execution_count": 64,
     "metadata": {},
     "output_type": "execute_result"
    }
   ],
   "source": [
    "n7.argmax() # the index of the max value"
   ]
  },
  {
   "cell_type": "code",
   "execution_count": 65,
   "metadata": {},
   "outputs": [
    {
     "name": "stdout",
     "output_type": "stream",
     "text": [
      "[[20 29]\n",
      " [43 29]\n",
      " [83 75]]\n",
      "[[84 33]\n",
      " [ 6 16]\n",
      " [60  7]]\n",
      "[[50  4  5]\n",
      " [19 24 37]]\n"
     ]
    }
   ],
   "source": [
    "a = np.random.randint(1,100, (3,2))\n",
    "b = np.random.randint(1,100, (3,2))\n",
    "c = np.random.randint(1,100, (2,3))\n",
    "print(a)\n",
    "print(b)\n",
    "print(c)"
   ]
  },
  {
   "cell_type": "code",
   "execution_count": 66,
   "metadata": {},
   "outputs": [
    {
     "data": {
      "text/plain": [
       "array([[20, 29, 84, 33],\n",
       "       [43, 29,  6, 16],\n",
       "       [83, 75, 60,  7]])"
      ]
     },
     "execution_count": 66,
     "metadata": {},
     "output_type": "execute_result"
    }
   ],
   "source": [
    "np.hstack((a,b)) # horizontal stack"
   ]
  },
  {
   "cell_type": "code",
   "execution_count": 67,
   "metadata": {},
   "outputs": [
    {
     "data": {
      "text/plain": [
       "array([[20, 29],\n",
       "       [43, 29],\n",
       "       [83, 75],\n",
       "       [84, 33],\n",
       "       [ 6, 16],\n",
       "       [60,  7]])"
      ]
     },
     "execution_count": 67,
     "metadata": {},
     "output_type": "execute_result"
    }
   ],
   "source": [
    "np.vstack((a,b)) # vertical stack"
   ]
  },
  {
   "cell_type": "code",
   "execution_count": 68,
   "metadata": {},
   "outputs": [
    {
     "data": {
      "text/plain": [
       "array([[20, 29],\n",
       "       [43, 29],\n",
       "       [83, 75],\n",
       "       [50, 19],\n",
       "       [ 4, 24],\n",
       "       [ 5, 37]])"
      ]
     },
     "execution_count": 68,
     "metadata": {},
     "output_type": "execute_result"
    }
   ],
   "source": [
    "np.vstack((a,c.T))"
   ]
  },
  {
   "cell_type": "code",
   "execution_count": 70,
   "metadata": {},
   "outputs": [],
   "source": [
    "m = np.array([1,2,3,4,5,6,7,8,9,2,4,5,1,7,9,6,5,7,3,5,4,8,8,5,9,6])"
   ]
  },
  {
   "cell_type": "code",
   "execution_count": 71,
   "metadata": {},
   "outputs": [
    {
     "data": {
      "text/plain": [
       "array([False, False, False, False, False,  True,  True,  True,  True,\n",
       "       False, False, False, False,  True,  True,  True, False,  True,\n",
       "       False, False, False,  True,  True, False,  True,  True])"
      ]
     },
     "execution_count": 71,
     "metadata": {},
     "output_type": "execute_result"
    }
   ],
   "source": [
    "# boolen filter\n",
    "m > 5"
   ]
  },
  {
   "cell_type": "code",
   "execution_count": 72,
   "metadata": {},
   "outputs": [
    {
     "data": {
      "text/plain": [
       "array([6, 7, 8, 9, 7, 9, 6, 7, 8, 8, 9, 6])"
      ]
     },
     "execution_count": 72,
     "metadata": {},
     "output_type": "execute_result"
    }
   ],
   "source": [
    "m[m > 5]"
   ]
  },
  {
   "cell_type": "code",
   "execution_count": 73,
   "metadata": {},
   "outputs": [
    {
     "data": {
      "text/plain": [
       "array([5, 5, 5, 5, 5])"
      ]
     },
     "execution_count": 73,
     "metadata": {},
     "output_type": "execute_result"
    }
   ],
   "source": [
    "m[m == 5]"
   ]
  },
  {
   "cell_type": "code",
   "execution_count": 74,
   "metadata": {},
   "outputs": [
    {
     "data": {
      "text/plain": [
       "array([1, 2, 3, 4, 6, 7, 8, 9, 2, 4, 1, 7, 9, 6, 7, 3, 4, 8, 8, 9, 6])"
      ]
     },
     "execution_count": 74,
     "metadata": {},
     "output_type": "execute_result"
    }
   ],
   "source": [
    "m[m != 5]"
   ]
  },
  {
   "cell_type": "code",
   "execution_count": 75,
   "metadata": {},
   "outputs": [
    {
     "data": {
      "text/plain": [
       "array([3, 4, 5, 6, 7, 4, 5, 7, 6, 5, 7, 3, 5, 4, 5, 6])"
      ]
     },
     "execution_count": 75,
     "metadata": {},
     "output_type": "execute_result"
    }
   ],
   "source": [
    "# in range of 2 to 8 \n",
    "m[((m>2) & (m<8))]"
   ]
  },
  {
   "cell_type": "code",
   "execution_count": 76,
   "metadata": {},
   "outputs": [],
   "source": [
    "# user created numpy matrix\n",
    "mat = []\n",
    "for i in range(10):\n",
    "    mat.append(int(input('Enter value')))\n",
    "mat = np.array(mat)"
   ]
  },
  {
   "cell_type": "code",
   "execution_count": 77,
   "metadata": {},
   "outputs": [
    {
     "name": "stdout",
     "output_type": "stream",
     "text": [
      "[2 4 6 4 7 8 9 3 1 5] (10,)\n"
     ]
    }
   ],
   "source": [
    "print(mat, mat.shape)"
   ]
  },
  {
   "cell_type": "code",
   "execution_count": 79,
   "metadata": {},
   "outputs": [
    {
     "name": "stdout",
     "output_type": "stream",
     "text": [
      "[[2 4 5]\n",
      " [6 7 8]] (2, 3)\n"
     ]
    }
   ],
   "source": [
    "# user created numpy matrix\n",
    "mat = []\n",
    "for i in range(2):\n",
    "    smat = []\n",
    "    for j in range(3):\n",
    "        smat.append(int(input('Enter value')))\n",
    "    mat.append(smat)\n",
    "mat = np.array(mat)\n",
    "print(mat, mat.shape)"
   ]
  },
  {
   "cell_type": "code",
   "execution_count": null,
   "metadata": {},
   "outputs": [],
   "source": []
  }
 ],
 "metadata": {
  "kernelspec": {
   "display_name": "Python 3.9.12 ('base')",
   "language": "python",
   "name": "python3"
  },
  "language_info": {
   "codemirror_mode": {
    "name": "ipython",
    "version": 3
   },
   "file_extension": ".py",
   "mimetype": "text/x-python",
   "name": "python",
   "nbconvert_exporter": "python",
   "pygments_lexer": "ipython3",
   "version": "3.9.12"
  },
  "orig_nbformat": 4,
  "vscode": {
   "interpreter": {
    "hash": "e80d1d46b75296750b81c0002546df5514b0c5fb775e2d3e5e0663e4abd4c690"
   }
  }
 },
 "nbformat": 4,
 "nbformat_minor": 2
}
