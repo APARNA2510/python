{
 "cells": [
  {
   "cell_type": "code",
   "execution_count": 1,
   "metadata": {},
   "outputs": [
    {
     "name": "stdout",
     "output_type": "stream",
     "text": [
      "[2, 3, 4, 5, 6]\n",
      "[4, 9, 16, 25, 36]\n"
     ]
    }
   ],
   "source": [
    "x = [2,3,4,5,6]\n",
    "x2 = []\n",
    "for i in x:\n",
    "    sqr = i**2\n",
    "    x2.append(sqr)\n",
    "print(x)\n",
    "print(x2)    "
   ]
  },
  {
   "cell_type": "code",
   "execution_count": 2,
   "metadata": {},
   "outputs": [
    {
     "name": "stdout",
     "output_type": "stream",
     "text": [
      "[2, 3, 4, 5, 6]\n",
      "[4, 9, 16, 25, 36]\n"
     ]
    }
   ],
   "source": [
    "x = [2,3,4,5,6]\n",
    "x3 = [i**2 for i in x]  # comprehension method\n",
    "print(x)\n",
    "print(x3)"
   ]
  },
  {
   "cell_type": "markdown",
   "metadata": {},
   "source": [
    "# syntax comprehension\n",
    "newlist = [operation loop condition]\n",
    "#use comprehension when you want to create a list from existing list"
   ]
  },
  {
   "cell_type": "code",
   "execution_count": 3,
   "metadata": {},
   "outputs": [
    {
     "name": "stdout",
     "output_type": "stream",
     "text": [
      "[2, 6, 4, 8, 10]\n"
     ]
    }
   ],
   "source": [
    "a = [2,3,5,7,6,4,8,9,10]\n",
    "even_a = [i for i in a if i%2 == 0]\n",
    "print(even_a)"
   ]
  },
  {
   "cell_type": "code",
   "execution_count": 7,
   "metadata": {},
   "outputs": [
    {
     "name": "stdout",
     "output_type": "stream",
     "text": [
      "['AS', 'AS', 'AC']\n"
     ]
    }
   ],
   "source": [
    "name = ['Aparna Sharma','Anushka Saxena','Ayushi Chandra']\n",
    "initial_name = [f'{n.split()[0][0]}{n.split()[-1][0]}' for n in name]\n",
    "print(initial_name)"
   ]
  },
  {
   "cell_type": "code",
   "execution_count": 8,
   "metadata": {},
   "outputs": [],
   "source": [
    "rainfall = {\n",
    "    '2001': 350,\n",
    "    '2002': 400,\n",
    "    '2003': 500,\n",
    "    '2004': 650,\n",
    "    '2005': 700,\n",
    "}"
   ]
  },
  {
   "cell_type": "code",
   "execution_count": 10,
   "metadata": {},
   "outputs": [
    {
     "name": "stdout",
     "output_type": "stream",
     "text": [
      "{'2001': 0.5, '2002': 0.5714285714285714, '2003': 0.7142857142857143, '2004': 0.9285714285714286, '2005': 1.0}\n"
     ]
    }
   ],
   "source": [
    "rainfall_norm = {i[0]:i[1]/700 for i in rainfall.items()}\n",
    "print(rainfall_norm)"
   ]
  },
  {
   "cell_type": "markdown",
   "metadata": {},
   "source": [
    "#wap to create a program that takes a list of numbers and then generate a list of all even nums and odd nums separated using comprehension"
   ]
  },
  {
   "cell_type": "code",
   "execution_count": 12,
   "metadata": {},
   "outputs": [
    {
     "name": "stdout",
     "output_type": "stream",
     "text": [
      "[2, 3, 4, 5, 6, 7, 8, 9, 10]\n",
      "[2, 4, 6, 8, 10]\n",
      "[3, 5, 7, 9]\n"
     ]
    }
   ],
   "source": [
    "z = [2,3,4,5,6,7,8,9,10]\n",
    "z2 = [i for i in z if i%2 == 0]  # for even values\n",
    "z3 = [i for i in z if i%2 != 0]  # for odd values\n",
    "print(z)\n",
    "print(z2)\n",
    "print(z3)"
   ]
  },
  {
   "cell_type": "code",
   "execution_count": null,
   "metadata": {},
   "outputs": [],
   "source": []
  }
 ],
 "metadata": {
  "kernelspec": {
   "display_name": "Python 3.9.12 ('base')",
   "language": "python",
   "name": "python3"
  },
  "language_info": {
   "codemirror_mode": {
    "name": "ipython",
    "version": 3
   },
   "file_extension": ".py",
   "mimetype": "text/x-python",
   "name": "python",
   "nbconvert_exporter": "python",
   "pygments_lexer": "ipython3",
   "version": "3.9.12"
  },
  "orig_nbformat": 4,
  "vscode": {
   "interpreter": {
    "hash": "e80d1d46b75296750b81c0002546df5514b0c5fb775e2d3e5e0663e4abd4c690"
   }
  }
 },
 "nbformat": 4,
 "nbformat_minor": 2
}
