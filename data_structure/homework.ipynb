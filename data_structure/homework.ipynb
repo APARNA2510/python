{
 "cells": [
  {
   "cell_type": "markdown",
   "metadata": {},
   "source": [
    "#Q1 WAP to calculate the total of a list, where the values are entered by user"
   ]
  },
  {
   "cell_type": "code",
   "execution_count": 11,
   "metadata": {},
   "outputs": [
    {
     "name": "stdout",
     "output_type": "stream",
     "text": [
      "sum of elements in the list is: 20\n"
     ]
    }
   ],
   "source": [
    "list = []\n",
    "num = int(input('Total number of elements in list:'))\n",
    "for n in range(num):\n",
    "    numbers = int(input('enter number'))\n",
    "    list.append(numbers)\n",
    "print(\"sum of elements in the list is:\",sum(list)) "
   ]
  },
  {
   "cell_type": "markdown",
   "metadata": {},
   "source": [
    "                         # OR"
   ]
  },
  {
   "cell_type": "code",
   "execution_count": 3,
   "metadata": {},
   "outputs": [
    {
     "name": "stdout",
     "output_type": "stream",
     "text": [
      "total => 20\n"
     ]
    }
   ],
   "source": [
    "x = []\n",
    "for i in range(5):\n",
    "    item = int(input('enter value:'))\n",
    "    x.append(item)\n",
    "total = sum(x)\n",
    "print(\"total =>\",total)    "
   ]
  },
  {
   "cell_type": "markdown",
   "metadata": {},
   "source": [
    "#Q2 WAP to remove every 3rd item from a list"
   ]
  },
  {
   "cell_type": "code",
   "execution_count": 4,
   "metadata": {},
   "outputs": [
    {
     "name": "stdout",
     "output_type": "stream",
     "text": [
      "0 11\n",
      "1 22\n",
      "2 33\n",
      "3 44\n",
      "4 55\n",
      "5 66\n",
      "6 77\n",
      "7 88\n",
      "8 99\n",
      "9 100\n"
     ]
    }
   ],
   "source": [
    "a = [11,22,33,44,55,66,77,88,99,100]\n",
    "ev3 = []\n",
    "for i,v in enumerate(a):\n",
    "    print(i,v)"
   ]
  },
  {
   "cell_type": "code",
   "execution_count": 5,
   "metadata": {},
   "outputs": [
    {
     "name": "stdout",
     "output_type": "stream",
     "text": [
      "1 11\n",
      "2 22\n",
      "3 33\n",
      "4 44\n",
      "5 55\n",
      "6 66\n",
      "7 77\n",
      "8 88\n",
      "9 99\n",
      "10 100\n"
     ]
    }
   ],
   "source": [
    "a = [11,22,33,44,55,66,77,88,99,100]\n",
    "ev3 = []\n",
    "for i,v in enumerate(a):\n",
    "    pos = i+1\n",
    "    print(pos,v)"
   ]
  },
  {
   "cell_type": "code",
   "execution_count": 6,
   "metadata": {},
   "outputs": [
    {
     "name": "stdout",
     "output_type": "stream",
     "text": [
      "[33, 66, 99]\n",
      "[11, 22, 44, 55, 77, 88, 100]\n"
     ]
    }
   ],
   "source": [
    "a = [11,22,33,44,55,66,77,88,99,100]\n",
    "ev3 = []\n",
    "for i,v in enumerate(a):\n",
    "    pos = i+1\n",
    "    if pos%3 == 0:\n",
    "        ev3.append(v)\n",
    "print(ev3)\n",
    "for item in ev3:\n",
    "    a.remove(item)\n",
    "print(a)    "
   ]
  },
  {
   "cell_type": "markdown",
   "metadata": {},
   "source": [
    "#Q3 WAP to add every 3rd item from a list, and store the result at the end of list"
   ]
  },
  {
   "cell_type": "code",
   "execution_count": 10,
   "metadata": {},
   "outputs": [
    {
     "name": "stdout",
     "output_type": "stream",
     "text": [
      "[33, 66, 99]\n",
      "total => 198\n",
      "[11, 22, 33, 44, 55, 66, 77, 88, 99, 100, 198]\n"
     ]
    }
   ],
   "source": [
    "a = [11,22,33,44,55,66,77,88,99,100]\n",
    "ev3 = []\n",
    "for i,v in enumerate(a):\n",
    "    pos = i+1\n",
    "    if pos%3 == 0:\n",
    "        ev3.append(v)\n",
    "print(ev3)\n",
    "total = sum(ev3)\n",
    "print(\"total =>\", total)  \n",
    "a.insert(11,198)\n",
    "print(a)\n"
   ]
  }
 ],
 "metadata": {
  "kernelspec": {
   "display_name": "Python 3.9.12 ('base')",
   "language": "python",
   "name": "python3"
  },
  "language_info": {
   "codemirror_mode": {
    "name": "ipython",
    "version": 3
   },
   "file_extension": ".py",
   "mimetype": "text/x-python",
   "name": "python",
   "nbconvert_exporter": "python",
   "pygments_lexer": "ipython3",
   "version": "3.9.12"
  },
  "orig_nbformat": 4,
  "vscode": {
   "interpreter": {
    "hash": "e80d1d46b75296750b81c0002546df5514b0c5fb775e2d3e5e0663e4abd4c690"
   }
  }
 },
 "nbformat": 4,
 "nbformat_minor": 2
}
